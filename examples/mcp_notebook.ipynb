{
 "cells": [
  {
   "cell_type": "markdown",
   "id": "51afaa25",
   "metadata": {},
   "source": [
    "## By Joseph Lin"
   ]
  }
 ],
 "metadata": {},
 "nbformat": 4,
 "nbformat_minor": 5
}
